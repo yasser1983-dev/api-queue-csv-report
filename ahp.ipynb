{
  "nbformat": 4,
  "nbformat_minor": 0,
  "metadata": {
    "colab": {
      "provenance": [],
      "mount_file_id": "10DpG_cJlgFQzgq3NEHBeUYWw2g3-FqDF",
      "authorship_tag": "ABX9TyOMOGQUvMXss3s2NPcnFDaI",
      "include_colab_link": true
    },
    "kernelspec": {
      "name": "python3",
      "display_name": "Python 3"
    },
    "language_info": {
      "name": "python"
    }
  },
  "cells": [
    {
      "cell_type": "markdown",
      "metadata": {
        "id": "view-in-github",
        "colab_type": "text"
      },
      "source": [
        "<a href=\"https://colab.research.google.com/github/yasser1983-dev/api-queue-csv-report/blob/main/ahp.ipynb\" target=\"_parent\"><img src=\"https://colab.research.google.com/assets/colab-badge.svg\" alt=\"Open In Colab\"/></a>"
      ]
    },
    {
      "cell_type": "code",
      "execution_count": 4,
      "metadata": {
        "id": "DrTyI5EEfSEB",
        "colab": {
          "base_uri": "https://localhost:8080/"
        },
        "outputId": "d6c29ee7-cf2f-407a-ccb1-6644a08e6f3f"
      },
      "outputs": [
        {
          "output_type": "stream",
          "name": "stdout",
          "text": [
            "Matriz extraída\n",
            "[1.0, 2.0, 3.0, 4.0, 5.0, 6.0]\n",
            "[0.5, 1.0, 2.0, 3.0, 4.0, 5.0]\n",
            "[0.333333333333333, 0.5, 1.0, 2.0, 3.0, 4.0]\n",
            "[0.25, 0.33, 0.5, 1.0, 2.0, 3.0]\n",
            "[0.2, 0.25, 0.33, 0.5, 1.0, 2.0]\n",
            "[0.166666666666667, 0.2, 0.25, 0.33, 0.5, 1.0]\n",
            "Validación: La matriz es cuadrada (6x6).\n",
            "La matriz no es de comparaciones pareadas\n",
            "\n",
            "Matriz normalizada:\n",
            "[[0.40816327 0.46728972 0.42372881 0.36934441 0.32258065 0.28571429]\n",
            " [0.20408163 0.23364486 0.28248588 0.27700831 0.25806452 0.23809524]\n",
            " [0.13605442 0.11682243 0.14124294 0.18467221 0.19354839 0.19047619]\n",
            " [0.10204082 0.0771028  0.07062147 0.0923361  0.12903226 0.14285714]\n",
            " [0.08163265 0.05841121 0.04661017 0.04616805 0.06451613 0.0952381 ]\n",
            " [0.06802721 0.04672897 0.03531073 0.03047091 0.03225806 0.04761905]]\n",
            "\n",
            "Suma de columnas de la matriz normalizada:\n",
            "[ 2.45  4.28  7.08 10.83 15.5  21.  ]\n",
            "\n",
            "Suma de filas de la matriz normalizada:\n",
            "[2.27682114 1.49338043 0.96281657 0.61399059 0.39257631 0.26041494]\n",
            "\n",
            "Índice de Consistencia (IC): 11.331449468148154\n",
            "\n",
            "Índice de Consistencia Aleatoria (RI): 1.24\n",
            "\n",
            "Índice de Consistencia Relativa)(CR): 9.13826570011948\n",
            "Iteraciones 1000: Nuevo CR = 9.003503\n",
            "⚠ Se alcanzó el número máximo de iteraciones. El ajuste puede no ser perfecto.\n",
            "Iteraciones 1000: Nuevo CR = 8.231545\n",
            "⚠ Se alcanzó el número máximo de iteraciones. El ajuste puede no ser perfecto.\n",
            "\n",
            "** La matriz no es consistente\n",
            "\n",
            "Resultado de ajuste de la matriz con el método exacto basado en valores propios\n",
            "\n",
            "[1.         1.52771041 2.39738286 3.80689406 5.97792583 8.94530124]\n",
            "[0.65457432 1.         1.56926525 2.49189508 3.91299673 5.85536446]\n",
            "[0.41712153 0.6372409  1.         1.58793746 2.49352155 3.73127772]\n",
            "[0.26268133 0.401301   0.62974772 1.         1.57028952 2.34976364]\n",
            "[0.1672821  0.25555861 0.40103924 0.63682524 1.         1.4963888 ]\n",
            "[0.11179053 0.17078356 0.26800471 0.42557472 0.66827552 1.        ]\n",
            "\n",
            "Resultado de ajuste de la matriz con el método aproximado Mínimos Cuadrados\n",
            "\n",
            "[1.         1.29484018 1.91626662 3.47524178 5.14344001 6.65974633]\n",
            "[0.77229608 1.         1.47992521 2.68391562 3.97225858 5.14329602]\n",
            "[0.52184805 0.67570982 1.         1.81354815 2.68409414 3.47537564]\n",
            "[0.28774976 0.37258996 0.55140527 1.         1.48002365 1.91634043]\n",
            "[0.19442241 0.25174595 0.37256517 0.67566488 1.         1.29480393]\n",
            "[0.15015587 0.19442785 0.28773868 0.52182795 0.77231771 1.        ]\n"
          ]
        }
      ],
      "source": [
        "from ahp_model import calculate_cr, is_homogeneous_matrix, is_pairwise_comparison_matrix, synthesize_judgments, consistency_threshold\n",
        "from manage_xlsx import read_xlsx_to_matrix\n",
        "from util import refine_matrix_consistency, print_matrix, print_ahp_results, print_linearization_results\n",
        "from validation_matriz import (validate_square_matrix,\n",
        "                               validate_min_matrix_size)\n",
        "\n",
        "file_path = \"template_matrix.xlsx\"\n",
        "matrix = read_xlsx_to_matrix(file_path)\n",
        "if matrix:\n",
        "    print_matrix(matrix, \"Matriz extraída\")\n",
        "    validate_square_result = validate_square_matrix(matrix)\n",
        "    validate_min_result = validate_min_matrix_size(matrix)\n",
        "    validate_homogeneous = is_homogeneous_matrix(matrix)\n",
        "    is_pairwise_comparison_matrix(matrix)\n",
        "    if validate_square_result and validate_min_result and validate_homogeneous:\n",
        "        priorities, normalized_matrix,row_sums, column_sums = synthesize_judgments(matrix)\n",
        "        CR, RI, CI = calculate_cr(matrix, priorities, column_sums)\n",
        "        print_ahp_results(normalized_matrix, row_sums, column_sums, CI, RI, CR)\n",
        "\n",
        "        if CR < consistency_threshold:\n",
        "            print(\"\\n** La matriz es consistente\")\n",
        "        else:\n",
        "            matrix_adjustment_exact = refine_matrix_consistency(matrix, calculate_cr, method=\"exact\")\n",
        "            matrix_adjustment_approx = refine_matrix_consistency(matrix, calculate_cr, method=\"approx\")\n",
        "            print_linearization_results(matrix_adjustment_exact, matrix_adjustment_approx)\n",
        "else:\n",
        "    print(\"\\nNo se pudo procesar la matriz debido a errores en los datos.\")"
      ]
    }
  ]
}